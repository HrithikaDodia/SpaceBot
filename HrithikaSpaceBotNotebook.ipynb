{
 "cells": [
  {
   "cell_type": "markdown",
   "metadata": {},
   "source": [
    "# <span style=\"font-family:consolas; background:#99ffff; font-size: 45px; test-align: center;\">SPACE BOT</span>🚀🌌\n",
    "\n",
    "<span style=\"font-family:consolas; font-size: 15px; test-align: center;\">A chatbot is used to mimic human conversation skills. Nowadays, chatbots are used for placing orders, answering user queries, reporting issues, scheduling appointments, etc. Use of chatbot enhances user experience of a product.\n",
    "In this notebook I have built a chatbot which helps in understanding one of the most amazing objects out there in space - <b>Neutron Stars</b>⭐. To build this chatbot, I make use of <b>NLTK</b> library.\n",
    "</span>\n",
    "<br><br>\n",
    "<img src=\"./robot.jpg\" style=\"width: 500px; height: 350px; margin:auto\"/>"
   ]
  },
  {
   "cell_type": "markdown",
   "metadata": {},
   "source": [
    "# <span style=\"font-family:consolas; background:#ffff80; font-size: 25px; test-align: center;\">IMPORTING LIBRARIES AND DATA</span>"
   ]
  },
  {
   "cell_type": "code",
   "execution_count": 1,
   "metadata": {},
   "outputs": [],
   "source": [
    "# Importing libraries\n",
    "import numpy as np\n",
    "import nltk\n",
    "import pandas as pd\n",
    "from nltk.tokenize import sent_tokenize, word_tokenize\n",
    "from nltk.stem import WordNetLemmatizer\n",
    "import re\n",
    "from sklearn.metrics.pairwise import cosine_similarity\n",
    "from sklearn.feature_extraction.text import TfidfVectorizer\n",
    "import random"
   ]
  },
  {
   "cell_type": "code",
   "execution_count": 2,
   "metadata": {},
   "outputs": [],
   "source": [
    "# Opening data file\n",
    "file = open('space-bot.txt', 'r', encoding='utf-8')"
   ]
  },
  {
   "cell_type": "code",
   "execution_count": 3,
   "metadata": {},
   "outputs": [],
   "source": [
    "# Read data from file\n",
    "corpus = file.read()"
   ]
  },
  {
   "cell_type": "markdown",
   "metadata": {},
   "source": [
    "# <span style=\"font-family:consolas; background:#99c2ff; font-size: 25px; test-align: center;\">DATA PREPROCESSING</span>"
   ]
  },
  {
   "cell_type": "code",
   "execution_count": 4,
   "metadata": {},
   "outputs": [],
   "source": [
    "# Split by paragraphs\n",
    "tokens = re.split(\"[\\n+]\", corpus)"
   ]
  },
  {
   "cell_type": "code",
   "execution_count": 5,
   "metadata": {},
   "outputs": [],
   "source": [
    "lemm = WordNetLemmatizer()\n",
    "\n",
    "def clean_data(corpus):\n",
    "    result = []\n",
    "    for sentence in corpus:\n",
    "        # Removing parenthesis from sentence\n",
    "        sentence = re.sub(r\"[\\([{})\\]]\",\" \" , sentence)\n",
    "        # Convert to list of words\n",
    "        sentence = sentence.split()\n",
    "        # Lemmatize each word\n",
    "        sentence = [lemm.lemmatize(word) for word in sentence]\n",
    "        # Form string from list and append to result\n",
    "        result.append(\" \".join(sentence))\n",
    "    return result"
   ]
  },
  {
   "cell_type": "code",
   "execution_count": 6,
   "metadata": {},
   "outputs": [],
   "source": [
    "clean_corpus = clean_data(tokens)\n",
    "\n",
    "# Well, I had some empty strings in data after cleaning it. So just removing them with the following code.\n",
    "while \"\" in clean_corpus:\n",
    "    clean_corpus.remove(\"\")"
   ]
  },
  {
   "cell_type": "code",
   "execution_count": 7,
   "metadata": {},
   "outputs": [
    {
     "name": "stdout",
     "output_type": "stream",
     "text": [
      "Length of our corpus is: 9\n",
      "An example of corpus:\n",
      "Another type of neutron star is called a magnetar. In a typical neutron star, the magnetic field is trillion of time that of the Earth's magnetic field; however, in a magnetar, the magnetic field is another 1000 time stronger.\n"
     ]
    }
   ],
   "source": [
    "# Let's have a glimpse of our corpus\n",
    "print(f\"Length of our corpus is: {len(clean_corpus)}\")\n",
    "print(\"An example of corpus:\")\n",
    "print(clean_corpus[5])"
   ]
  },
  {
   "cell_type": "markdown",
   "metadata": {},
   "source": [
    "# <span style=\"font-family:consolas; background:#ffb3cc; font-size: 25px; test-align: center;\">IMPORTANT STUFF: TF-IDF AND COSINE SIMILARITY</span>\n",
    "<br>\n",
    "<span style=\"font-family:consolas; font-size: 15px; test-align: center;\">\n",
    "    <b style=\" background:#b3e6ff;\">REVEALING THE SECRET BEHIND THE CHATBOT</b>🕵️‍♂️: The basic idea is finding the most similar sentence to the user input from the text.<br>\n",
    "    <b>TF-IDF</b> means term frequency - inverse document frequency. Machines do not understand words, so we have to convert them to numbers. Here, we do this with the help of TF-IDF. It actually measures how important a word is in the document.<br>\n",
    "    <b>Cosine Similarity</b> is used to find out similarity between two sentences.\n",
    "    \n",
    "</span>"
   ]
  },
  {
   "cell_type": "code",
   "execution_count": 9,
   "metadata": {},
   "outputs": [],
   "source": [
    "welcome = ['hi', 'hey']\n",
    "\n",
    "def chatbot_response(user_chat):\n",
    "    # If user inputs any of the greeting words, give greeting in response\n",
    "    for w in user_chat.split():\n",
    "        if w.lower() in welcome:\n",
    "            return random.choice(welcome)\n",
    "    # Pre-processing user chat\n",
    "    user_chat = clean_data([user_chat])\n",
    "    # Append user input to our clean_corpus\n",
    "    clean_corpus.append(\" \".join(user_chat))\n",
    "    cv = TfidfVectorizer()\n",
    "    X = cv.fit_transform(clean_corpus)\n",
    "    # Find cosine-similarity between user input and all our sentences in the corpus \n",
    "    cosine_data = cosine_similarity(X[-1], X)\n",
    "    # Sorting the data by similarity and selecting most relevant sentence as the answer. We use the second last sentence as \n",
    "    # answer this is because the last sentence in our corpus is user input \n",
    "    idx = cosine_data.argsort()[0][-2]\n",
    "    # Removing user input from corpus\n",
    "    clean_corpus.pop(-1)\n",
    "    return clean_corpus[idx]"
   ]
  },
  {
   "cell_type": "markdown",
   "metadata": {},
   "source": [
    "# <span style=\"font-family:consolas; background:#ffa366; font-size: 25px; test-align: center;\">RESULT TIME</span>\n",
    "<span style=\"font-family:consolas; font-size: 15px; test-align: center;\">Finally, we can use our chatbot</span>"
   ]
  },
  {
   "cell_type": "code",
   "execution_count": 11,
   "metadata": {},
   "outputs": [
    {
     "name": "stdout",
     "output_type": "stream",
     "text": [
      "SPACE BOT: Hi!! Type bye to exit. Ask me anything: \n",
      "What are pulsars??\n",
      "SPACE BOT:  Most neutron star are observed a pulsars. Pulsars are rotating neutron star observed to have pulse of radiation at very regular interval that typically range from millisecond to seconds. Pulsars have very strong magnetic field which funnel jet of particle out along the two magnetic poles. These accelerated particle produce very powerful beam of light. Often, the magnetic field is not aligned with the spin axis, so those beam of particle and light are swept around a the star rotates. When the beam cross our line-of-sight, we see a pulse – in other words, we see pulsar turn on and off a the beam sweep over Earth.\n",
      "tell me about crust of neutron stars\n",
      "SPACE BOT:  In all neutron stars, the crust of the star is locked together with the magnetic field so that any change in one affect the other. The crust is under an immense amount of strain, and a small movement of the crust can be explosive. But since the crust and magnetic field are tied, that explosion ripple through the magnetic field.\n",
      "bye\n",
      "Bye\n"
     ]
    }
   ],
   "source": [
    "print(\"SPACE BOT: Hi!! Type bye to exit. Ask me anything: \")\n",
    "while(True):\n",
    "    user_chat = input()\n",
    "    if(user_chat.lower()==\"bye\"):\n",
    "        print(\"Bye\")\n",
    "        break\n",
    "    print(\"SPACE BOT: \", end=\" \")\n",
    "    print(chatbot_response(user_chat))"
   ]
  },
  {
   "cell_type": "code",
   "execution_count": null,
   "metadata": {},
   "outputs": [],
   "source": []
  }
 ],
 "metadata": {
  "kernelspec": {
   "display_name": "Python 3",
   "language": "python",
   "name": "python3"
  },
  "language_info": {
   "codemirror_mode": {
    "name": "ipython",
    "version": 3
   },
   "file_extension": ".py",
   "mimetype": "text/x-python",
   "name": "python",
   "nbconvert_exporter": "python",
   "pygments_lexer": "ipython3",
   "version": "3.7.3"
  }
 },
 "nbformat": 4,
 "nbformat_minor": 2
}
